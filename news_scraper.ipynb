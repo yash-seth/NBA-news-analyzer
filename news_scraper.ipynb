{
 "cells": [
  {
   "attachments": {},
   "cell_type": "markdown",
   "metadata": {},
   "source": [
    "<h1>Real-time NBA News Analyzer</h1>\n",
    "<b>Here, firstly we gather the real-time new of various National Basketball Association (NBA) players by a Web Crawler to scrap the current news from the Fox News Sports network. For this, we use the BeautifulSoup python package. After collecting the data, it is manipulated to make it into a form which we can work with for applying NLP techniques.</b>"
   ]
  },
  {
   "cell_type": "code",
   "execution_count": 2,
   "metadata": {},
   "outputs": [
    {
     "name": "stdout",
     "output_type": "stream",
     "text": [
      "Response status code from website:  200\n",
      "                                                               Description  \\\n",
      "Klay Thompson            Thompson (knee) is available for Tuesday's gam...   \n",
      "Nikola Jokic             Jokic (knee) is in the starting lineup for Tue...   \n",
      "Jamal Murray             Murray (knee) won't play in Tuesday's game aga...   \n",
      "Domantas Sabonis         Sabonis recorded 28 points (12-19 FG, 2-2 3Pt,...   \n",
      "Ivica Zubac              Zubac (knee) is slated to practice with the te...   \n",
      "Norman Powell            Head coach Ty Lue said Powell (groin) practice...   \n",
      "Paul George              George (knee) will take part in practice Tuesd...   \n",
      "Michael Porter Jr.       Porter (heel) won't play in Tuesday's game ver...   \n",
      "Russell Westbrook        Westbrook has been ruled out for Monday's game...   \n",
      "Terry Rozier             Rozier (hip) is out for Monday's contest again...   \n",
      "LeBron James             James (ankle) is probable for Wednesday agains...   \n",
      "Jerami Grant             Grant is probable to play in Wednesday's game ...   \n",
      "Josh Giddey              Giddey (illness) is out Wednesday against the ...   \n",
      "Jusuf Nurkic             Nurkic (calf) is questionable to play in Wedne...   \n",
      "Damian Lillard           Lillard ended with 28 points (9-17 FG, 6-12 3P...   \n",
      "Rudy Gobert              Gobert (ankle) is questionable to play in Wedn...   \n",
      "Kristaps Porzingis       Porzingis didn't participate in Tuesday's shoo...   \n",
      "Jimmy Butler             Butler (knee) has been downgraded to questiona...   \n",
      "Jayson Tatum             Tatum (personal) participated in Tuesday's pra...   \n",
      "Marcus Smart             Smart is questionable to play in Wednesday's m...   \n",
      "Gary Trent Jr.           Trent (quadriceps) is questionable for Wednesd...   \n",
      "Franz Wagner             Wagner is questionable for Wednesday's game ag...   \n",
      "Khris Middleton          Middleton (knee) is considered doubtful to tak...   \n",
      "Tim Hardaway Jr.         Hardaway (illness) is off the injury report fo...   \n",
      "Devin Booker             Booker (groin) will not play Tuesday versus th...   \n",
      "Collin Sexton            Sexton (hamstring) will miss Tuesday's game ve...   \n",
      "Kelly Olynyk             Olynyk (ankle) is out Tuesday against the Pist...   \n",
      "Kyle Lowry               Lowry (knee) won't take the floor Tuesday vers...   \n",
      "Chuma Okeke              Okeke  underwent an arthroscopic procedure on ...   \n",
      "Joel Embiid              Embiid closed with a team-high 28 points (6-16...   \n",
      "Pascal Siakam            Siakam finished with 38 points (13-27 FG, 3-8 ...   \n",
      "Shai Gilgeous-Alexander  Gilgeous-Alexander ended Monday's 123-121 win ...   \n",
      "Luka Doncic              Doncic was ejected from Monday's game against ...   \n",
      "\n",
      "                                                                    Impact  \\\n",
      "Klay Thompson            As expected, Thompson will suit up for a third...   \n",
      "Nikola Jokic             Jokic has been upgraded from probable to avail...   \n",
      "Jamal Murray             Murray, who is dealing with a left knee injury...   \n",
      "Domantas Sabonis         Sabonis put up season highs with 28 points and...   \n",
      "Ivica Zubac              Zubac has skipped the last pair of games while...   \n",
      "Norman Powell            Lue's comments essentially rule Powell out for...   \n",
      "Paul George              George's presence at practice bodes well for a...   \n",
      "Michael Porter Jr.       Porter hasn't played since Nov. 22 due to a he...   \n",
      "Russell Westbrook        It's unclear as to when this injury popped up ...   \n",
      "Terry Rozier             After exiting Charlotte's previous contest ear...   \n",
      "LeBron James             After missing Monday's loss to the Suns with a...   \n",
      "Jerami Grant             Grant has missed only two games in the 2022-23...   \n",
      "Josh Giddey              Giddey will be sidelined for a third game as h...   \n",
      "Jusuf Nurkic             Nurkic is questionable to miss his second stra...   \n",
      "Damian Lillard           Lillard came into the contest needing 20 point...   \n",
      "Rudy Gobert              Gobert has missed the previous three games wit...   \n",
      "Kristaps Porzingis       The specifics of Porzingis' situation remain u...   \n",
      "Jimmy Butler             Butler was previously probable due to knee sor...   \n",
      "Jayson Tatum             Tatum wasn't with the team for Sunday's loss t...   \n",
      "Marcus Smart             Smart is questionable to miss just his fourth ...   \n",
      "Gary Trent Jr.           Trent has missed three straight games due to a...   \n",
      "Franz Wagner             If Wagner sits out Wednesday, it would be his ...   \n",
      "Khris Middleton          Middleton appears set for his third consecutiv...   \n",
      "Tim Hardaway Jr.         Hardaway will be back following a one-game abs...   \n",
      "Devin Booker             Booker's absence is hardly unexpected 24 hours...   \n",
      "Collin Sexton            Sexton hasn't appeared in a game since Dec. 7,...   \n",
      "Kelly Olynyk             A sprained left ankle will keep Olynyk out for...   \n",
      "Kyle Lowry               After an initial questionable listing, Lowry c...   \n",
      "Chuma Okeke              Okeke has missed 14 consecutive games while be...   \n",
      "Joel Embiid              The All-Star center saw his streak of games wi...   \n",
      "Pascal Siakam            The 38 points and 15 boards were both season h...   \n",
      "Shai Gilgeous-Alexander  Gilgeous-Alexander missed the Thunder's previo...   \n",
      "Luka Doncic              Doncic was tossed from the contest in the thir...   \n",
      "\n",
      "                                                                       PFP  \n",
      "Klay Thompson            https://b.fssta.com/uploads/application/nba/he...  \n",
      "Nikola Jokic             https://b.fssta.com/uploads/application/nba/he...  \n",
      "Jamal Murray             https://b.fssta.com/uploads/application/nba/he...  \n",
      "Domantas Sabonis         https://b.fssta.com/uploads/application/nba/he...  \n",
      "Ivica Zubac              https://b.fssta.com/uploads/application/nba/he...  \n",
      "Norman Powell            https://b.fssta.com/uploads/application/nba/he...  \n",
      "Paul George              https://b.fssta.com/uploads/application/nba/he...  \n",
      "Michael Porter Jr.       https://b.fssta.com/uploads/application/nba/he...  \n",
      "Russell Westbrook        https://b.fssta.com/uploads/application/nba/he...  \n",
      "Terry Rozier             https://b.fssta.com/uploads/application/nba/he...  \n",
      "LeBron James             https://b.fssta.com/uploads/application/nba/he...  \n",
      "Jerami Grant             https://b.fssta.com/uploads/application/nba/he...  \n",
      "Josh Giddey              https://b.fssta.com/uploads/application/nba/he...  \n",
      "Jusuf Nurkic             https://b.fssta.com/uploads/application/nba/he...  \n",
      "Damian Lillard           https://b.fssta.com/uploads/application/nba/he...  \n",
      "Rudy Gobert              https://b.fssta.com/uploads/application/nba/he...  \n",
      "Kristaps Porzingis       https://b.fssta.com/uploads/application/nba/he...  \n",
      "Jimmy Butler             https://b.fssta.com/uploads/application/nba/he...  \n",
      "Jayson Tatum             https://b.fssta.com/uploads/application/nba/he...  \n",
      "Marcus Smart             https://b.fssta.com/uploads/application/nba/he...  \n",
      "Gary Trent Jr.           https://b.fssta.com/uploads/application/nba/he...  \n",
      "Franz Wagner             https://b.fssta.com/uploads/application/nba/he...  \n",
      "Khris Middleton          https://b.fssta.com/uploads/application/nba/he...  \n",
      "Tim Hardaway Jr.         https://b.fssta.com/uploads/application/nba/he...  \n",
      "Devin Booker             https://b.fssta.com/uploads/application/nba/he...  \n",
      "Collin Sexton            https://b.fssta.com/uploads/application/nba/he...  \n",
      "Kelly Olynyk             https://b.fssta.com/uploads/application/nba/he...  \n",
      "Kyle Lowry               https://b.fssta.com/uploads/application/nba/he...  \n",
      "Chuma Okeke              https://b.fssta.com/uploads/application/nba/he...  \n",
      "Joel Embiid              https://b.fssta.com/uploads/application/nba/he...  \n",
      "Pascal Siakam            https://b.fssta.com/uploads/application/nba/he...  \n",
      "Shai Gilgeous-Alexander  https://b.fssta.com/uploads/application/nba/he...  \n",
      "Luka Doncic              https://b.fssta.com/uploads/application/nba/he...  \n"
     ]
    }
   ],
   "source": [
    "import requests\n",
    "from bs4 import BeautifulSoup\n",
    "import pandas as pd\n",
    "\n",
    "URL = \"https://www.foxsports.com/nba/player-news\"\n",
    "\n",
    "webpage = requests.get(URL)\n",
    "\n",
    "news = BeautifulSoup(webpage.content, 'html.parser')\n",
    "\n",
    "print(\"Response status code from website: \", webpage.status_code)\n",
    "\n",
    "newsArticles = news.find(\"div\", {\"class\", \"player-news-list\"})\n",
    "\n",
    "players = {}\n",
    "\n",
    "for article in newsArticles.findAll(\"div\", {\"class\", \"player-news-article league\"}):\n",
    "  player_news = {}\n",
    "  # extracting the player news description\n",
    "  player_news[\"Description\"] = article.find(\"div\", {\"class\", \"player-news-article-description\"}).text[6:]\n",
    "  \n",
    "  #extracting the player impact\n",
    "  player_news[\"Impact\"] = article.find(\"div\", {\"class\", \"player-news-article-impact\"}).text[8:]\n",
    "\n",
    "  #extracting the URL for PFP \n",
    "  player_news[\"PFP\"] = article.find(\"a\", {\"class\", \"player-news-article-headshot flex-circle\"}).img['src']\n",
    "\n",
    "  players[article.find(\"div\", {\"class\", \"player-news-article-title\"}).text] = player_news\n",
    "\n",
    "# converting to dataframe and exporting as csv file\n",
    "df = pd.DataFrame(players)\n",
    "df = df.transpose()\n",
    "print(df)"
   ]
  },
  {
   "attachments": {},
   "cell_type": "markdown",
   "metadata": {},
   "source": [
    "<br><b>Next, we apply sentiment analysis on the collected news. This helps us clearly segregate the positive news from the negative news. For this purpose, we utilize the transformers package, which provides a pre-built sentiment analysis pipeline. The pipeline takes the string to be classified as input and returns the label of 'Positive', 'Negative' or 'Neutral' along with the sentiment score, indicating the magnitude of the sentiment.</b>"
   ]
  },
  {
   "cell_type": "code",
   "execution_count": 3,
   "metadata": {},
   "outputs": [
    {
     "name": "stderr",
     "output_type": "stream",
     "text": [
      "C:\\Users\\yashs\\AppData\\Roaming\\Python\\Python38\\site-packages\\scipy\\__init__.py:146: UserWarning: A NumPy version >=1.16.5 and <1.23.0 is required for this version of SciPy (detected version 1.23.5\n",
      "  warnings.warn(f\"A NumPy version >={np_minversion} and <{np_maxversion}\"\n",
      "No model was supplied, defaulted to distilbert-base-uncased-finetuned-sst-2-english and revision af0f99b (https://huggingface.co/distilbert-base-uncased-finetuned-sst-2-english).\n",
      "Using a pipeline without specifying a model name and revision in production is not recommended.\n",
      "All model checkpoint layers were used when initializing TFDistilBertForSequenceClassification.\n",
      "\n",
      "All the layers of TFDistilBertForSequenceClassification were initialized from the model checkpoint at distilbert-base-uncased-finetuned-sst-2-english.\n",
      "If your task is similar to the task the model of the checkpoint was trained on, you can already use TFDistilBertForSequenceClassification for predictions without further training.\n"
     ]
    }
   ],
   "source": [
    "from transformers import pipeline\n",
    "sentiment_pipeline = pipeline(\"sentiment-analysis\")\n",
    "\n",
    "sentiment = []\n",
    "sentiment_value = []\n",
    "\n",
    "for player in players:\n",
    "    sentiment.append(sentiment_pipeline(players[player][\"Impact\"])[0]['label'])\n",
    "    sentiment_value.append(sentiment_pipeline(players[player][\"Impact\"])[0]['score'])\n",
    "\n",
    "df['Sentiment'] = sentiment\n",
    "df['Sentiment Score'] = sentiment_value"
   ]
  },
  {
   "attachments": {},
   "cell_type": "markdown",
   "metadata": {},
   "source": [
    "<br><b>Then, we go for keyword extraction, which essentially allows us to extract the useful keywords from the news. It allows us to highlight the main ideas of the news. Keyword extraction is useful in many ways. It helps in case one wishes to paraphrase the news, or create hash tags to post about the news etc.</b>"
   ]
  },
  {
   "cell_type": "code",
   "execution_count": 4,
   "metadata": {},
   "outputs": [
    {
     "name": "stdout",
     "output_type": "stream",
     "text": [
      "Description Keywords player wise: \n",
      "['Thompson, knee, Tuesday game, Knicks, game', 'lineup for Tuesday, Tuesday game, starting lineup, Jokic, knee, Grizzlies, lineup, game', 'Denver Post reports, Mike Singer, game against Memphis, Murray, knee, play in Tuesday, Tuesday game, Memphis, Mike, Denver', 'Monday 125-119 loss, minutes during Monday, Sabonis recorded, points, rebounds, Monday, Sabonis, recorded, 12-19, minutes', 'contact session Tuesday, Tomer Azarly, Zubac, knee, Azarly of ClutchPoints.com, ClutchPoints.com reports, Tuesday, Tomer, slated to practice, Azarly', 'five-game road trip, upcoming five-game road, Lue said Powell, Ohm Youngmisuk, practiced Tuesday, coach Ty Lue, Youngmisuk of ESPN.com, Head coach, road trip, ESPN.com reports', 'Los Angeles Times, Angeles Times reports, Andrew Greif, practice Tuesday, George, knee, Tuesday, Andrew, part in practice, Greif', 'Denver Post reports, game versus Memphis, Mike Singer, Tuesday game versus, Porter, heel, play in Tuesday, Memphis, Mike, Tuesday', 'Spectrum SportsNet reports, Mike Trudell, left foot soreness, Trudell of Spectrum, Monday game, Suns due, Mike, due to left, left foot, Suns', 'Rozier, hip, Monday contest, Kings, Monday, contest', 'Wednesday against Sacramento, Ryan Ward, James, ankle, probable for Wednesday, Ward of LakersNation.com, LakersNation.com reports, Sacramento, Ryan, Wednesday', 'play in Wednesday, Wednesday game, Thunder due, Grant is probable, back spasms, probable to play, due to back, Grant, probable, play', 'Trail Blazers, Giddey, illness, Wednesday, Trail', 'Nurkic, calf, play in Wednesday, Wednesday matchup, Thunder, questionable to play, play, matchup', 'Monday 123-121 loss, Oklahoma City, minutes during Monday, loss to Oklahoma, Lillard ended, pass Clyde Drexler, 6-12, City, Drexler for Portland, Monday', 'matchup with Dallas, Gobert, ankle, play in Wednesday, Wednesday matchup, Dallas, questionable to play, play, matchup', 'Washington Post reports, Ava Wallace, participate in Tuesday, Tuesday shootaround, Ava, Tuesday, Washington, Post, Porzingis, reports', 'Miami Herald reports, Barry Jackson, questionable for Tuesday, Tuesday game, Bulls due, gastrointestinal illness, downgraded to questionable, Butler, knee, Barry', 'Springfield Republican reports, Souichi Terada, participated in Tuesday, Tuesday practice, Tatum, personal, Souichi, Tuesday, Terada, Springfield', 'Keith Smith, Smith of Spotrac.com, Spotrac.com reports, play in Wednesday, Wednesday matchup, Pacers due, Smart is questionable, non-COVID illness, questionable to play, Keith', 'Blake Murphy, Murphy of Sportsnet.ca, Sportsnet.ca reports, Trent, quadriceps, questionable for Wednesday, Wednesday matchup, Knicks, Blake, Murphy', 'questionable for Wednesday, Wednesday game, Rockets due, Wagner is questionable, sprained right ankle, Wagner, ankle, game, due, sprained', 'floor Wednesday versus, versus the Cavaliers, considered doubtful, Middleton, knee, Cavaliers, Wednesday, doubtful, floor, versus', 'report for Wednesday, Wednesday game, injury report, Hardaway, illness, Timberwolves, injury, report, game', 'play Tuesday versus, versus the Wizards, Booker, groin, Wizards, Tuesday, play, versus', 'miss Tuesday game, Tuesday game versus, versus the Pistons, Sexton, hamstring, Pistons, Tuesday, miss, game, versus', 'Sarah Todd, Deseret News reports, Olynyk, ankle, Pistons, Sarah, Tuesday, Todd, Deseret, reports', 'floor Tuesday versus, versus the Bulls, Lowry, knee, Bulls, Tuesday, floor, versus', 'left knee Tuesday, Okeke underwent, underwent an arthroscopic, arthroscopic procedure, Tuesday, Okeke, weeks, procedure, left, knee', 'Monday 104-101 overtime, minutes during Monday, 104-101 overtime victory, points, rebounds, Embiid closed, Raptors, Monday, Embiid, team-high', 'Monday 104-101 overtime, minutes during Monday, 104-101 overtime loss, points, rebounds, Siakam finished, Monday, Siakam, 13-27, 9-11', 'Gilgeous-Alexander ended Monday, ended Monday 123-121, Monday 123-121 win, win over Portland, points, minutes, Monday, Portland, 10-24, rebounds', 'Bally Sports Southwest, Sports Southwest reports, ejected from Monday, Monday game, Doncic was ejected, Timberwolves, Bally, Sports, Southwest, Doncic']\n",
      "\n",
      "Impact Keywords player wise: \n",
      "['left knee soreness, straight game, tabbed as probable, probable due, due to left, left knee, Golden State, expected, soreness, set Wednesday', 'Tuesday game, upgraded from probable, MVP is averaging, Jokic, reigning MVP, points, rebounds, assists, upgraded, probable', 'left knee injury, contest since Nov., Ish Smith helping, veteran Ish Smith, officially miss, Bones Hyland, Nov., Thunder, Friday against Portland, injury', 'adding seven assists, put up season, season highs, triple-double by adding, Sabonis put, campaign, points, boards, loss, assists', 'Wednesday tilt approaches, knee contusion, pair of games, games while contending, floor Wednesday versus, shape as Wednesday, Zubac has skipped, official injury report, versus the Hornets, Zubac chances', \"Lue comments essentially, essentially rule Powell, Wednesday matchup, Lue comments, forward could return, return to action, calendar year, rule Powell, trip starts Friday, Clippers' upcoming five-game\", 'two-game absence due, presence at practice, practice bodes, potential return, return to action, action Wednesday, George presence, George status leading, knee injury, Wednesday contest', 'played since Nov., heel injury, Nuggets coach Mike, coach Mike Malone, Nov., return Tuesday, matchup with Portland, due, Porter, back for Friday', 'Monday action, injury popped, Monday, Westbrook absence, Kendrick Nunn, action, unclear, injury, popped, run in Westbrook', 'exiting Charlotte previous, Charlotte previous contest, previous contest early, officially out Monday, Louisville product ninth, Monday, ninth missed contest, Charlotte, Rozier is officially, Rozier', 'missing Monday loss, left ankle injury, Wednesday tipoff, James appears ready, setbacks before Wednesday, ready to return, return to action, action barring, barring any major, major setbacks', 'play Wednesday, Grant has missed, 2022-23 season, expected to play, forward is averaging, Grant, points, contests, missed, games', 'Aaron Wiggins, Giddey, illness, prominent role, sidelined, game, recovers, strong candidate, candidate to draw, draw another start', 'straight game due, Nurkic is questionable, calf soreness, questionable to miss, game due, Drew Eubanks, suit up Wednesday, Nurkic, center is unable, miss', 'Trail Blazers scorers, all-time Trail Blazers, tie Drexler atop, atop the list, list of all-time, contest needing, passed Drexler, superstar point guard, Drexler, Trail', 'left ankle sprain, missed the previous, previous three games, Naz Reid, Gobert has missed, sprain, Gobert, fourth straight start, big man, missed', \"Porzingis' situation remain, missing Tuesday contest, situation remain unclear, specifics of Porzingis', danger of missing, big man availability, Suns, Porzingis', Tuesday, Wizards' next injury\", 'previously probable due, Butler was previously, Gabe Vincent, stomach issue, Kyle Lowry, Caleb Martin, knee soreness, Max Strus, Victor Oladipo, Duncan Robinson', 'Tuesday practice suggests, team for Sunday, Sunday loss, loss to Orlando, Orlando for personal, mix Wednesday, personal reasons, Boston injury report, Pacers, Tatum availability moving', 'season Wednesday, Smart is questionable, questionable to miss, Brogdon and Payton, Payton Pritchard, Smart, Malcolm Brogdon, fourth game, miss, season', 'straight games due, missing a fourth, missed three straight, games due, quadriceps injury, danger of missing, Malachi Flynn, Trent, fourth, Trent previous', 'sits out Wednesday, Wagner sits, Caleb Houstan, Terrence Ross, Admiral Schofield, Wednesday, Bol Bol, year, minutes for Terrence, Bol', 'Middleton appears set, knee soreness, consecutive absence, absence while dealing, dealing, leaving fantasy owners, Bucks this season, Middleton, status Wednesday, set', 'one-game absence, points, rebounds, minutes, Hardaway, absence, back, one-game, averaged, steals', 'Monday contest, Booker absence, Booker, Damion Lee, Monday, Landry Shamet, Shamet and Damion, unexpected, hours, issue', 'game since Dec., seventh consecutive absence, marking his seventh, continue Tuesday, Dec., Tuesday, action arrives Thursday, arrives Thursday versus, versus the Wizards, Sexton', 'sprained left ankle, straight game, Olynyk, Walker Kessler, game, Kessler is expected, sprained, left, ankle, Kessler', 'initial questionable listing, Heat on Tuesday, candidates to suit, Gabe Vincent, Tyler Herro, Victor Oladipo, Oladipo and Jimmy, Jimmy Butler, Tuesday, Heat', 'left knee soreness, left knee, consecutive games, first-round pick posted, Okeke has missed, Okeke prolonged absence, Bol Bol, missed, surgery, Okeke', 'missed bucket, plenty productive, All-Star center, points end, Embiid, bucket, percent, streak of games, late November, games', 'highs for Siakam, responsible for Toronto, season highs, single-handedly responsible, teammates managed, Siakam, games in December, points, Toronto, boards', 'Thunder previous game, Memphis on Saturday, missed the Thunder, Saturday due, back issue, Monday contest, Damian Lillard tied, point ruled, Gilgeous-Alexander missed, point guard made', 'Doncic was tossed, non-foul call, quarter after arguing, Doncic, call, points, minutes, tossed, contest, quarter']\n"
     ]
    }
   ],
   "source": [
    "# Yet Another Keyword Extractor - for keyword extraction from the impact of the news\n",
    "import yake\n",
    "\n",
    "# keywords extracted from the description paragraph\n",
    "player_keywords_desc = []\n",
    "\n",
    "for player in players:\n",
    "    keywordsString = \"\"\n",
    "    doc = players[player]['Description']\n",
    "    # dedupLim to set the hyperparameter for allowing repetition of words in the generation of keywords\n",
    "    kw_extractor = yake.KeywordExtractor(n = 3, dedupLim = 0.5, top = 10)\n",
    "    keywords = kw_extractor.extract_keywords(doc)\n",
    "    for idx, kw in enumerate(keywords):\n",
    "        if idx == len(keywords)-1:\n",
    "             keywordsString += kw[0]\n",
    "             break\n",
    "        keywordsString += kw[0] + \", \"\n",
    "    player_keywords_desc.append(keywordsString)\n",
    "\n",
    "print(\"Description Keywords player wise: \")\n",
    "print(player_keywords_desc)\n",
    "df['Keywords-Description'] = player_keywords_desc\n",
    "\n",
    "print()\n",
    "\n",
    "# keywords extracted from the impact paragraph\n",
    "player_keywords_impact = []\n",
    "\n",
    "for player in players:\n",
    "    keywordsString = \"\"\n",
    "    doc = players[player]['Impact']\n",
    "    # dedupLim to set the hyperparameter for allowing repetition of words in the generation of keywords\n",
    "    kw_extractor = yake.KeywordExtractor(n = 3, dedupLim = 0.5, top = 10)\n",
    "    keywords = kw_extractor.extract_keywords(doc)\n",
    "    for idx, kw in enumerate(keywords):\n",
    "        if idx == len(keywords)-1:\n",
    "             keywordsString += kw[0]\n",
    "             break\n",
    "        keywordsString += kw[0] + \", \"\n",
    "    player_keywords_impact.append(keywordsString)\n",
    "\n",
    "print(\"Impact Keywords player wise: \")\n",
    "print(player_keywords_impact)\n",
    "df['Keywords-Impact'] = player_keywords_impact"
   ]
  },
  {
   "attachments": {},
   "cell_type": "markdown",
   "metadata": {},
   "source": [
    "<br> <b> Next, we go for generating summary of the piece of text."
   ]
  },
  {
   "cell_type": "code",
   "execution_count": 8,
   "metadata": {},
   "outputs": [
    {
     "name": "stderr",
     "output_type": "stream",
     "text": [
      "No model was supplied, defaulted to t5-small and revision d769bba (https://huggingface.co/t5-small).\n",
      "Using a pipeline without specifying a model name and revision in production is not recommended.\n",
      "All model checkpoint layers were used when initializing TFT5ForConditionalGeneration.\n",
      "\n",
      "All the layers of TFT5ForConditionalGeneration were initialized from the model checkpoint at t5-small.\n",
      "If your task is similar to the task the model of the checkpoint was trained on, you can already use TFT5ForConditionalGeneration for predictions without further training.\n"
     ]
    }
   ],
   "source": [
    "# creating summarization model\n",
    "classifier = pipeline(\"summarization\")\n",
    "\n",
    "summaries = []\n",
    "\n",
    "for player in players:\n",
    "    summaries.append(classifier(players[player]['Impact'], max_length=30)['summary_text'])\n",
    "\n",
    "df['Summary'] = summaries"
   ]
  },
  {
   "cell_type": "markdown",
   "metadata": {},
   "source": [
    "<br><b> Next, we apply the Question Answering NLP technique</b>"
   ]
  },
  {
   "cell_type": "code",
   "execution_count": null,
   "metadata": {},
   "outputs": [
    {
     "name": "stderr",
     "output_type": "stream",
     "text": [
      "No model was supplied, defaulted to distilbert-base-cased-distilled-squad and revision 626af31 (https://huggingface.co/distilbert-base-cased-distilled-squad).\n",
      "Using a pipeline without specifying a model name and revision in production is not recommended.\n",
      "Some layers from the model checkpoint at distilbert-base-cased-distilled-squad were not used when initializing TFDistilBertForQuestionAnswering: ['dropout_19']\n",
      "- This IS expected if you are initializing TFDistilBertForQuestionAnswering from the checkpoint of a model trained on another task or with another architecture (e.g. initializing a BertForSequenceClassification model from a BertForPreTraining model).\n",
      "- This IS NOT expected if you are initializing TFDistilBertForQuestionAnswering from the checkpoint of a model that you expect to be exactly identical (initializing a BertForSequenceClassification model from a BertForSequenceClassification model).\n",
      "Some layers of TFDistilBertForQuestionAnswering were not initialized from the model checkpoint at distilbert-base-cased-distilled-squad and are newly initialized: ['dropout_119']\n",
      "You should probably TRAIN this model on a down-stream task to be able to use it for predictions and inference.\n"
     ]
    }
   ],
   "source": [
    "from transformers import pipeline\n",
    "question_answerer = pipeline('question-answering')\n",
    "\n",
    "status = []\n",
    "\n",
    "for player in players:\n",
    "    status.append(question_answerer({'question': 'Is he injured?','context': players[player]['Description']})['answer'])\n",
    "\n",
    "df['Status'] = status"
   ]
  },
  {
   "attachments": {},
   "cell_type": "markdown",
   "metadata": {},
   "source": [
    "<br><b> We then finally export all the results as CSV file for easy access and readability. The CSV file format allows for the data to be used in other models and applications as well. </b>"
   ]
  },
  {
   "cell_type": "code",
   "execution_count": null,
   "metadata": {},
   "outputs": [],
   "source": [
    "# extracting generated information from crawled data to csv file\n",
    "df.to_csv(\"nba_news.csv\")"
   ]
  }
 ],
 "metadata": {
  "kernelspec": {
   "display_name": "Python 3",
   "language": "python",
   "name": "python3"
  },
  "language_info": {
   "codemirror_mode": {
    "name": "ipython",
    "version": 3
   },
   "file_extension": ".py",
   "mimetype": "text/x-python",
   "name": "python",
   "nbconvert_exporter": "python",
   "pygments_lexer": "ipython3",
   "version": "3.8.2"
  },
  "orig_nbformat": 4,
  "vscode": {
   "interpreter": {
    "hash": "570feb405e2e27c949193ac68f46852414290d515b0ba6e5d90d076ed2284471"
   }
  }
 },
 "nbformat": 4,
 "nbformat_minor": 2
}
