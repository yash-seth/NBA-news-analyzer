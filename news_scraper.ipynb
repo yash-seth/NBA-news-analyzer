{
 "cells": [
  {
   "attachments": {},
   "cell_type": "markdown",
   "metadata": {},
   "source": [
    "<h1>Real-time NBA News Analyzer</h1>\n",
    "<b>Here, firstly we gather the real-time new of various National Basketball Association (NBA) players by a Web Crawler to scrap the current news from the Fox News Sports network. For this, we use the BeautifulSoup python package. After collecting the data, it is manipulated to make it into a form which we can work with for applying NLP techniques.</b>"
   ]
  },
  {
   "cell_type": "code",
   "execution_count": 31,
   "metadata": {},
   "outputs": [
    {
     "name": "stdout",
     "output_type": "stream",
     "text": [
      "Response status code from website:  200\n",
      "                                                             Description  \\\n",
      "Tyler Herro            Herro (knee) said Thursday that he is good to ...   \n",
      "Russell Westbrook      Westbrook (recently signed) is absent from the...   \n",
      "Fred VanVleet          VanVleet (personal) has been ruled out of Thur...   \n",
      "D'Angelo Russell       Russell (ankle) won't return to Thursday's con...   \n",
      "LeBron James           James (foot) will play Thursday against the Wa...   \n",
      "Anthony Davis          Davis (foot) will play in Thursday's matchup w...   \n",
      "Andrew Wiggins         Wiggins (personal), who is listed as out for T...   \n",
      "Tre Jones              Jones (foot)  will not play in Thursday's game...   \n",
      "Ivica Zubac            Zubac will miss Friday's game against the King...   \n",
      "Joel Embiid            Embiid is dealing with a non-COVID illness, bu...   \n",
      "Kyle Lowry             Head coach Erik Spoelstra indicated Thursday t...   \n",
      "Robert Williams III    Williams will start Thursday's game versus the...   \n",
      "Kelly Oubre Jr.        Oubre (hand) is probable for Friday's game aga...   \n",
      "Terry Rozier           Rozier (hand) is probable for Friday's game ag...   \n",
      "OG Anunoby             Anunoby (wrist) is available for Thursday's ga...   \n",
      "Ben Simmons            Simmons is questionable for Friday's game vers...   \n",
      "Jamal Murray           Head coach Michael Malone said Murray (knee) w...   \n",
      "Bobby Portis           Portis (knee) isn't on the injury report for F...   \n",
      "Giannis Antetokounmpo  Antetokounmpo (wrist) is doubtful for Friday's...   \n",
      "Khris Middleton        Middleton (knee) isn't on the injury report fo...   \n",
      "Trae Young             Young was excused from Thursday's practice ses...   \n",
      "John Collins           Collins (concussion) has been ruled out for Fr...   \n",
      "Mitchell Robinson      Robinson (thumb) participated in Thursday's pr...   \n",
      "Jerami Grant           Grant has been ruled out for Thursday's matchu...   \n",
      "Damian Lillard         Lillard is out for Thursday's game versus the ...   \n",
      "Bradley Beal           Beal (knee) is questionable for Friday's game ...   \n",
      "Jalen Green            Green (groin) won't play in Friday's game vers...   \n",
      "\n",
      "                                                                  Impact  \\\n",
      "Tyler Herro            Herro is set to play Friday after missing the ...   \n",
      "Russell Westbrook      Westbrook will make his first appearance in a ...   \n",
      "Fred VanVleet          VanVleet was quickly downgraded from questiona...   \n",
      "D'Angelo Russell       Russell picked up a right ankle sprain in the ...   \n",
      "LeBron James           James was initially considered probable for Th...   \n",
      "Anthony Davis          Davis was initially tabbed probable for the co...   \n",
      "Andrew Wiggins         Wiggins missed the Warriors' final game before...   \n",
      "Tre Jones              Jones has missed six of his last seven games w...   \n",
      "Ivica Zubac            Zubac will be sidelined for the first time sin...   \n",
      "Joel Embiid            Per Bontemps, Embiid scrimmaged with the team ...   \n",
      "Kyle Lowry             Lowry missed six consecutive games heading int...   \n",
      "Robert Williams III    Williams will return to the starting lineup fo...   \n",
      "Kelly Oubre Jr.        Oubre hasn't played since Dec. 29. He underwen...   \n",
      "Terry Rozier           Rozier was unavailable for the Hornets' final ...   \n",
      "OG Anunoby             Anunoby will return from a sprained left wrist...   \n",
      "Ben Simmons            Simmons' potential absence could result in ext...   \n",
      "Jamal Murray           Murray missed Denver's final six games before ...   \n",
      "Bobby Portis           Portis was expected to return to action Friday...   \n",
      "Giannis Antetokounmpo  Antetokounmpo was limited during Wednesday's p...   \n",
      "Khris Middleton        Middleton was unavailable for two of the Bucks...   \n",
      "Trae Young             The Hawks return from the All-Star break Frida...   \n",
      "John Collins           Collins landed in the NBA's concussion protoco...   \n",
      "Mitchell Robinson      Robinson also practiced Wednesday, and he felt...   \n",
      "Jerami Grant           The Trail Blazers were delayed in Portland due...   \n",
      "Damian Lillard         Lillard will miss his first game since Dec. 3 ...   \n",
      "Bradley Beal           Beal was unable to practice for a second conse...   \n",
      "Jalen Green            Green also missed Wednesday's practice due to ...   \n",
      "\n",
      "                                                                     PFP  \n",
      "Tyler Herro            https://b.fssta.com/uploads/application/nba/he...  \n",
      "Russell Westbrook      https://b.fssta.com/uploads/application/nba/he...  \n",
      "Fred VanVleet          https://b.fssta.com/uploads/application/nba/he...  \n",
      "D'Angelo Russell       https://b.fssta.com/uploads/application/nba/he...  \n",
      "LeBron James           https://b.fssta.com/uploads/application/nba/he...  \n",
      "Anthony Davis          https://b.fssta.com/uploads/application/nba/he...  \n",
      "Andrew Wiggins         https://b.fssta.com/uploads/application/nba/he...  \n",
      "Tre Jones              https://b.fssta.com/uploads/application/nba/he...  \n",
      "Ivica Zubac            https://b.fssta.com/uploads/application/nba/he...  \n",
      "Joel Embiid            https://b.fssta.com/uploads/application/nba/he...  \n",
      "Kyle Lowry             https://b.fssta.com/uploads/application/nba/he...  \n",
      "Robert Williams III    https://b.fssta.com/uploads/application/nba/he...  \n",
      "Kelly Oubre Jr.        https://b.fssta.com/uploads/application/nba/he...  \n",
      "Terry Rozier           https://b.fssta.com/uploads/application/nba/he...  \n",
      "OG Anunoby             https://b.fssta.com/uploads/application/nba/he...  \n",
      "Ben Simmons            https://b.fssta.com/uploads/application/nba/he...  \n",
      "Jamal Murray           https://b.fssta.com/uploads/application/nba/he...  \n",
      "Bobby Portis           https://b.fssta.com/uploads/application/nba/he...  \n",
      "Giannis Antetokounmpo  https://b.fssta.com/uploads/application/nba/he...  \n",
      "Khris Middleton        https://b.fssta.com/uploads/application/nba/he...  \n",
      "Trae Young             https://b.fssta.com/uploads/application/nba/he...  \n",
      "John Collins           https://b.fssta.com/uploads/application/nba/he...  \n",
      "Mitchell Robinson      https://b.fssta.com/uploads/application/nba/he...  \n",
      "Jerami Grant           https://b.fssta.com/uploads/application/nba/he...  \n",
      "Damian Lillard         https://b.fssta.com/uploads/application/nba/he...  \n",
      "Bradley Beal           https://b.fssta.com/uploads/application/nba/he...  \n",
      "Jalen Green            https://b.fssta.com/uploads/application/nba/he...  \n"
     ]
    }
   ],
   "source": [
    "import requests\n",
    "from bs4 import BeautifulSoup\n",
    "import pandas as pd\n",
    "\n",
    "URL = \"https://www.foxsports.com/nba/player-news\"\n",
    "\n",
    "webpage = requests.get(URL)\n",
    "\n",
    "news = BeautifulSoup(webpage.content, 'html.parser')\n",
    "\n",
    "print(\"Response status code from website: \", webpage.status_code)\n",
    "\n",
    "newsArticles = news.find(\"div\", {\"class\", \"player-news-list\"})\n",
    "\n",
    "players = {}\n",
    "\n",
    "for article in newsArticles.findAll(\"div\", {\"class\", \"player-news-article league\"}):\n",
    "  player_news = {}\n",
    "  # extracting the player news description\n",
    "  player_news[\"Description\"] = article.find(\"div\", {\"class\", \"player-news-article-description\"}).text[6:]\n",
    "  \n",
    "  #extracting the player impact\n",
    "  player_news[\"Impact\"] = article.find(\"div\", {\"class\", \"player-news-article-impact\"}).text[8:]\n",
    "\n",
    "  #extracting the URL for PFP \n",
    "  player_news[\"PFP\"] = article.find(\"a\", {\"class\", \"player-news-article-headshot flex-circle\"}).img['src']\n",
    "\n",
    "  players[article.find(\"div\", {\"class\", \"player-news-article-title\"}).text] = player_news\n",
    "\n",
    "# converting to dataframe and exporting as csv file\n",
    "df = pd.DataFrame(players)\n",
    "df = df.transpose()\n",
    "print(df)"
   ]
  },
  {
   "attachments": {},
   "cell_type": "markdown",
   "metadata": {},
   "source": [
    "<br><b>Next, we apply sentiment analysis on the collected news. This helps us clearly segregate the positive news from the negative news. For this purpose, we utilize the transformers package, which provides a pre-built sentiment analysis pipeline. The pipeline takes the string to be classified as input and returns the label of 'Positive', 'Negative' or 'Neutral' along with the sentiment score, indicating the magnitude of the sentiment.</b>"
   ]
  },
  {
   "cell_type": "code",
   "execution_count": 39,
   "metadata": {},
   "outputs": [
    {
     "name": "stderr",
     "output_type": "stream",
     "text": [
      "No model was supplied, defaulted to distilbert-base-uncased-finetuned-sst-2-english and revision af0f99b (https://huggingface.co/distilbert-base-uncased-finetuned-sst-2-english).\n",
      "Using a pipeline without specifying a model name and revision in production is not recommended.\n",
      "Some layers from the model checkpoint at distilbert-base-uncased-finetuned-sst-2-english were not used when initializing TFDistilBertForSequenceClassification: ['dropout_19']\n",
      "- This IS expected if you are initializing TFDistilBertForSequenceClassification from the checkpoint of a model trained on another task or with another architecture (e.g. initializing a BertForSequenceClassification model from a BertForPreTraining model).\n",
      "- This IS NOT expected if you are initializing TFDistilBertForSequenceClassification from the checkpoint of a model that you expect to be exactly identical (initializing a BertForSequenceClassification model from a BertForSequenceClassification model).\n",
      "Some layers of TFDistilBertForSequenceClassification were not initialized from the model checkpoint at distilbert-base-uncased-finetuned-sst-2-english and are newly initialized: ['dropout_223']\n",
      "You should probably TRAIN this model on a down-stream task to be able to use it for predictions and inference.\n"
     ]
    }
   ],
   "source": [
    "from transformers import pipeline\n",
    "sentiment_pipeline = pipeline(\"sentiment-analysis\")\n",
    "\n",
    "sentiment = []\n",
    "sentiment_value = []\n",
    "\n",
    "for player in players:\n",
    "    l1 = sentiment_pipeline(players[player][\"Impact\"])[0]['label']\n",
    "    s1 = sentiment_pipeline(players[player][\"Impact\"])[0]['score']\n",
    "    l2 = sentiment_pipeline(players[player][\"Description\"])[0]['label']\n",
    "    s2 = sentiment_pipeline(players[player][\"Description\"])[0]['score']\n",
    "    if l1 == l2:\n",
    "        sentiment.append(l1)\n",
    "        if s1 > s2:\n",
    "            sentiment_value.append(s1)\n",
    "        else:\n",
    "            sentiment_value.append(s2)\n",
    "    else:\n",
    "        if s1 > s2:\n",
    "            sentiment.append(l1)\n",
    "            sentiment_value.append(s1)\n",
    "        else:\n",
    "            sentiment.append(l2)\n",
    "            sentiment_value.append(s2)\n",
    "\n",
    "\n",
    "df['Sentiment'] = sentiment\n",
    "df['Sentiment Score'] = sentiment_value"
   ]
  },
  {
   "attachments": {},
   "cell_type": "markdown",
   "metadata": {},
   "source": [
    "<br><b>Then, we go for keyword extraction, which essentially allows us to extract the useful keywords from the news. It allows us to highlight the main ideas of the news. Keyword extraction is useful in many ways. It helps in case one wishes to paraphrase the news, or create hash tags to post about the news etc.</b>"
   ]
  },
  {
   "cell_type": "code",
   "execution_count": 33,
   "metadata": {},
   "outputs": [
    {
     "name": "stdout",
     "output_type": "stream",
     "text": [
      "Description Keywords player wise: \n",
      "['South Florida Sun, Florida Sun Sentinel, Sun Sentinel reports, game versus Milwaukee, Ira Winderman, Friday game versus, Herro, knee, Milwaukee, Ira', 'Clippers debut Friday, Tomer Azarly, recently signed, make his Clippers, Azarly of ClutchPoints.com, slated to make, injury report, ClutchPoints.com reports, Westbrook, Kings', 'Kayla Grey, Grey of TSN, TSN reports, Thursday contest, VanVleet, personal, Pelicans, Kayla, Thursday, Grey', 'NBC Sports Bay, Sports Bay Area, Bay Area reports, Dalton Johnson, Johnson of NBC, Russell, ankle, return to Thursday, Thursday contest, Warriors', 'Marc J. Spears, James, foot, play Thursday, Spears of ESPN.com, ESPN.com reports, Warriors, Marc, Spears, reports', 'Marc J. Spears, Davis, foot, play in Thursday, Thursday matchup, Spears of ESPN.com, ESPN.com reports, Warriors, Marc, Thursday', 'Anthony Slater, Athletic reports, Thursday game, family matter, timeline to return, Wiggins, personal, Lakers, Anthony, Warriors', 'Jones, foot, play in Thursday, Thursday game, Mavericks, play, game', 'Los Angeles Times, Angeles Times reports, miss Friday game, Andrew Greif, Kings due, Zubac will miss, strained right calf, Andrew, Friday, Greif', 'Thursday versus Memphis, Tim Bontemps, play Thursday versus, Bontemps of ESPN.com, Embiid is dealing, non-COVID illness, ESPN.com reports, Memphis, Tim, expected to play', 'coach Erik Spoelstra, South Florida Sun-Sentinel, Head coach Erik, Florida Sun-Sentinel reports, Thursday that Lowry, Ira Winderman, Spoelstra indicated Thursday, South Florida, knee, remain out indefinitely', 'start Thursday game, Thursday game versus, versus the Pacers, Williams will start, Pacers, Thursday, Williams, start, game, versus', 'Oubre, hand, probable for Friday, Friday game, Timberwolves, probable, game', 'Rozier, hand, probable for Friday, Friday game, Timberwolves, probable, game', 'Michael Grange, Grange of Sportsnet.ca, Sportsnet.ca reports, Anunoby, wrist, Thursday game, Pelicans, Michael, Grange, reports', 'Friday game versus, left knee soreness, Alex Schiffer, Athletic reports, questionable for Friday, versus the Bulls, Bulls due, Simmons is questionable, due to left, left knee', 'coach Michael Malone, Head coach Michael, Malone said Murray, Spencer Davies, knee, play Thursday, Davies of BasketballNews.com, BasketballNews.com reports, Murray, Cavaliers', 'report for Friday, Friday game, injury report, Portis, knee, Heat, injury, report, game', 'game versus Miami, Friday game versus, Antetokounmpo, wrist, doubtful for Friday, Miami, Friday, doubtful, game, versus', 'report for Friday, Friday game, injury report, Middleton, knee, Heat, injury, report, game', 'Jeff Schultz, Thursday practice session, Athletic reports, practice session due, excused from Thursday, Young was excused, personal reasons, Jeff, due to personal, Thursday', \"Kevin Chouinard, Hawks' official site, official site reports, game against Cleveland, Collins, concussion, Friday game, Cleveland, Kevin, Hawks'\", 'Thursday practice session, Ian Begley, participated in Thursday, York reports, Robinson, thumb, Begley of SportsNet, SportsNet New York, Ian, Thursday', 'Thursday matchup, matchup in Sacramento, Sacramento due, rest purposes, due to rest, Thursday, Grant, ruled, matchup, due', 'Thursday game versus, versus the Kings, Kings due, due to rest, Thursday, Lillard, rest, game, versus, due', 'Hoop District reports, Neil Dalal, Dalal of Hoop, Beal, knee, questionable for Friday, Friday game, Cavaliers, Neil, Dalal', 'Coty M. Davis, Friday game versus, Green, play in Friday, versus the Warriors, Davis of SI.com, SI.com reports, Coty, Friday, Warriors']\n",
      "\n",
      "Impact Keywords player wise: \n",
      "['left knee contusion, play Friday, Friday after missing, reigning Sixth Man, send Max Strus, Max Strus back, set to play, previous games, All-Star break, left knee', \"Clippers uniform Friday, Coach Tyronn Lue, trade deadline, Westbrook will make, Westbrook, Clippers, Friday, Jazz, Bones Hyland, Clippers' rotation\", 'Expect Malachi Flynn, personal matter, quickly downgraded, downgraded from questionable, Gary Trent, Trent and Scottie, Scottie Barnes, VanVleet unavailable, matter, VanVleet was quickly', 'Golden State, half of Thursday, Thursday matchup, matchup with Golden, Russell picked, ankle sprain, Dennis Schroder, Schroder and Malik, Malik Beasley, State', 'left foot soreness, initially considered probable, continues to deal, deal with left, left foot, Thursday contest, probable for Thursday, Thursday, soreness, James was initially', 'initially tabbed probable, foot stress injury, Davis, Davis was initially, points, minutes, initially, tabbed, probable, contest', \"coach Steve Kerr, head coach Steve, Warriors' final game, All-Star break Feb., missed the Warriors', Clippers due, family matter, rejoin the team, details Thursday, offer many details\", 'lingering left foot, left foot soreness, Jones has missed, Blake Wesley figure, games with lingering, left foot, contest due, Graham and Blake, Malaki Branham, backcourt Thursday', 'Mason Plumlee, time since Dec., opportunity for Mason, Plumlee to step, calf issue, starting lineup, Zubac averaged, Dec., Zubac, Mason', 'Thursday morning shootaround, team Wednesday, participate in Thursday, Embiid scrimmaged, Bontemps, Thursday, monitor Embiid status, Embiid status closely, MVP candidate, Embiid', 'lingering knee pain, consecutive games heading, All-Star break, knee pain, missed six consecutive, contests while dealing, dealing with lingering, Lowry left Thursday, Lowry missed, left Thursday practice', 'lineup for Boston, Boston first game, Williams will return, second-half schedule, starting lineup, Boston, similar role Thursday, appearances this year, Williams, schedule', 'hand injury Jan., left hand injury, played since Dec., progress in rehab, underwent surgery, surgery to address, address a left, struggling to make, make any progress, Dec.', \"resumes play Friday, Hornets' final game, All-Star break due, team resumes play, Rozier was unavailable, hand sprain, break due, back in action, Friday, Hornets'\", 'left wrist Thursday, sprained left wrist, consecutive absences, Jakob Poeltl, Anunoby will return, Thursday, Raptors trading, trading for Jakob, Poeltl has clouded, Anunoby', \"Edmond Sumner, Cam Thomas, Yuta Watanabe, Thomas and Yuta, Simmons' potential absence, minutes for Edmond, Sumner, Cam, absence could result, result in extended\", \"missed Denver final, Murray missed Denver, All-Star break due, knee soreness, deemed himself healthy, second-half schedule, break due, initially listed, listed as questionable, Nuggets' first game\", 'Bucks resume play, Jae Crowder recently, action Friday, Friday after participating, Portis was expected, All-Star break, acquired Jae Crowder, expected to return, return to action, participating fully', \"All-Star festivities due, limited during Wednesday, Wednesday practice, Bucks' final, MVP candidate X-rays, wrist sprain, sprain he suffered, Jrue Holiday figures, Milwaukee primary playmaker, Antetokounmpo was limited\", \"Middleton was unavailable, All-Star break, break but fully, fully participated, participated in practice, games ahead, Bucks' three games, Bucks', late January, Middleton\", 'Thursday practice session, missing Thursday practice, All-Star break Friday, Hawks return, clear whether Young, Cavaliers, Aaron Holiday, Hawks, Young, Thursday', 'NBA concussion protocol, protocol Saturday, Collins landed, All-Star break, unable to gain, gain clearance, Sunday against Brooklyn, NBA, Saturday, Collins', 'practiced Wednesday, coach Tom Thibodeau, Robinson feels Friday, felt good, Thibodeau said Thursday, Wednesday, coach Tom, game against Washington, Knicks will wait, Friday before determining', 'Damian Lillard due, Trail Blazers, Blazers were delayed, weather-related issues, missing Portland final, Grant and Damian, matchup versus Houston, Portland due, due to weather-related, due to rest', \"game since Dec., Turner Sports reports, Portland first game, Trail Blazers' flight, Dec., Thursday, Chris Haynes, Lillard will miss, Haynes of Turner, game back\", \"consecutive day Thursday, day Thursday, Wizards' first game, Beal was unable, unable to practice, All-Star break, unavailable Friday due, Deni Avdija, Avdija and Monte, Monte Morris\", 'missed Wednesday practice, left groin strain, Coach Stephen Silas, practice due, Kevin Porter, Wednesday, Josh Christopher, matchup with Portland, strain, Daishen Nix']\n"
     ]
    }
   ],
   "source": [
    "# Yet Another Keyword Extractor - for keyword extraction from the impact of the news\n",
    "import yake\n",
    "\n",
    "# keywords extracted from the description paragraph\n",
    "player_keywords_desc = []\n",
    "\n",
    "for player in players:\n",
    "    keywordsString = \"\"\n",
    "    doc = players[player]['Description']\n",
    "    # dedupLim to set the hyperparameter for allowing repetition of words in the generation of keywords\n",
    "    kw_extractor = yake.KeywordExtractor(n = 3, dedupLim = 0.5, top = 10)\n",
    "    keywords = kw_extractor.extract_keywords(doc)\n",
    "    for idx, kw in enumerate(keywords):\n",
    "        if idx == len(keywords)-1:\n",
    "             keywordsString += kw[0]\n",
    "             break\n",
    "        keywordsString += kw[0] + \", \"\n",
    "    player_keywords_desc.append(keywordsString)\n",
    "\n",
    "print(\"Description Keywords player wise: \")\n",
    "print(player_keywords_desc)\n",
    "df['Keywords-Description'] = player_keywords_desc\n",
    "\n",
    "print()\n",
    "\n",
    "# keywords extracted from the impact paragraph\n",
    "player_keywords_impact = []\n",
    "\n",
    "for player in players:\n",
    "    keywordsString = \"\"\n",
    "    doc = players[player]['Impact']\n",
    "    # dedupLim to set the hyperparameter for allowing repetition of words in the generation of keywords\n",
    "    kw_extractor = yake.KeywordExtractor(n = 3, dedupLim = 0.5, top = 10)\n",
    "    keywords = kw_extractor.extract_keywords(doc)\n",
    "    for idx, kw in enumerate(keywords):\n",
    "        if idx == len(keywords)-1:\n",
    "             keywordsString += kw[0]\n",
    "             break\n",
    "        keywordsString += kw[0] + \", \"\n",
    "    player_keywords_impact.append(keywordsString)\n",
    "\n",
    "print(\"Impact Keywords player wise: \")\n",
    "print(player_keywords_impact)\n",
    "df['Keywords-Impact'] = player_keywords_impact"
   ]
  },
  {
   "attachments": {},
   "cell_type": "markdown",
   "metadata": {},
   "source": [
    "<br> <b> Next, we go for generating summary of the piece of text."
   ]
  },
  {
   "cell_type": "code",
   "execution_count": 34,
   "metadata": {},
   "outputs": [
    {
     "name": "stderr",
     "output_type": "stream",
     "text": [
      "No model was supplied, defaulted to t5-small and revision d769bba (https://huggingface.co/t5-small).\n",
      "Using a pipeline without specifying a model name and revision in production is not recommended.\n",
      "All model checkpoint layers were used when initializing TFT5ForConditionalGeneration.\n",
      "\n",
      "All the layers of TFT5ForConditionalGeneration were initialized from the model checkpoint at t5-small.\n",
      "If your task is similar to the task the model of the checkpoint was trained on, you can already use TFT5ForConditionalGeneration for predictions without further training.\n",
      "C:\\Users\\yashs\\AppData\\Roaming\\Python\\Python38\\site-packages\\transformers\\models\\t5\\tokenization_t5_fast.py:155: FutureWarning: This tokenizer was incorrectly instantiated with a model max length of 512 which will be corrected in Transformers v5.\n",
      "For now, this behavior is kept to avoid breaking backwards compatibility when padding/encoding with `truncation is True`.\n",
      "- Be aware that you SHOULD NOT rely on t5-small automatically truncating your input to 512 when padding/encoding.\n",
      "- If you want to encode/pad to sequences longer than 512 you can either instantiate this tokenizer with `model_max_length` or pass `max_length` when encoding/padding.\n",
      "- To avoid this warning, please instantiate this tokenizer with `model_max_length` set to your preferred value.\n",
      "  warnings.warn(\n"
     ]
    }
   ],
   "source": [
    "# creating summarization model\n",
    "classifier = pipeline(\"summarization\")\n",
    "\n",
    "summaries = []\n",
    "\n",
    "for player in players:\n",
    "    summaries.append(classifier(players[player]['Impact'], max_length=30)[0]['summary_text'])\n",
    "\n",
    "df['Summary'] = summaries"
   ]
  },
  {
   "cell_type": "markdown",
   "metadata": {},
   "source": [
    "<br><b> Next, we apply the Question Answering NLP technique</b>"
   ]
  },
  {
   "cell_type": "code",
   "execution_count": 35,
   "metadata": {},
   "outputs": [
    {
     "name": "stderr",
     "output_type": "stream",
     "text": [
      "No model was supplied, defaulted to distilbert-base-cased-distilled-squad and revision 626af31 (https://huggingface.co/distilbert-base-cased-distilled-squad).\n",
      "Using a pipeline without specifying a model name and revision in production is not recommended.\n",
      "Some layers from the model checkpoint at distilbert-base-cased-distilled-squad were not used when initializing TFDistilBertForQuestionAnswering: ['dropout_19']\n",
      "- This IS expected if you are initializing TFDistilBertForQuestionAnswering from the checkpoint of a model trained on another task or with another architecture (e.g. initializing a BertForSequenceClassification model from a BertForPreTraining model).\n",
      "- This IS NOT expected if you are initializing TFDistilBertForQuestionAnswering from the checkpoint of a model that you expect to be exactly identical (initializing a BertForSequenceClassification model from a BertForSequenceClassification model).\n",
      "Some layers of TFDistilBertForQuestionAnswering were not initialized from the model checkpoint at distilbert-base-cased-distilled-squad and are newly initialized: ['dropout_203']\n",
      "You should probably TRAIN this model on a down-stream task to be able to use it for predictions and inference.\n"
     ]
    }
   ],
   "source": [
    "from transformers import pipeline\n",
    "question_answerer = pipeline('question-answering')\n",
    "\n",
    "status = []\n",
    "\n",
    "for player in players:\n",
    "    status.append(question_answerer({'question': 'Is he injured?','context': players[player]['Description']})['answer'])\n",
    "\n",
    "df['Status'] = status"
   ]
  },
  {
   "attachments": {},
   "cell_type": "markdown",
   "metadata": {},
   "source": [
    "<br><b> We then finally export all the results as CSV file for easy access and readability. The CSV file format allows for the data to be used in other models and applications as well. </b>"
   ]
  },
  {
   "cell_type": "code",
   "execution_count": 37,
   "metadata": {},
   "outputs": [],
   "source": [
    "# extracting generated information from crawled data to csv file\n",
    "df[\"Description\"]=df[\"Description\"].str.replace(',','-')\n",
    "df[\"Impact\"]=df[\"Impact\"].str.replace(',','-')\n",
    "df[\"Keywords-Description\"]=df[\"Keywords-Description\"].str.replace(',','-')\n",
    "df[\"Keywords-Impact\"]=df[\"Keywords-Impact\"].str.replace(',','-')\n",
    "df[\"Status\"]=df[\"Status\"].str.replace(',','-')\n",
    "df[\"Summary\"]=df[\"Summary\"].str.replace(',','-')\n",
    "df.to_csv(\"nba_news.csv\")"
   ]
  },
  {
   "cell_type": "code",
   "execution_count": 38,
   "metadata": {},
   "outputs": [
    {
     "data": {
      "text/plain": [
       "True"
      ]
     },
     "execution_count": 38,
     "metadata": {},
     "output_type": "execute_result"
    }
   ],
   "source": [
    "import webbrowser\n",
    "\n",
    "webbrowser.get('\"C:\\Program Files (x86)\\Google\\Chrome\\Application\\chrome.exe\" %s').open(r\"C:\\Users\\yashs\\Documents\\D-Drive\\Sem 6\\NLP\\display-output.html\")"
   ]
  }
 ],
 "metadata": {
  "kernelspec": {
   "display_name": "Python 3",
   "language": "python",
   "name": "python3"
  },
  "language_info": {
   "codemirror_mode": {
    "name": "ipython",
    "version": 3
   },
   "file_extension": ".py",
   "mimetype": "text/x-python",
   "name": "python",
   "nbconvert_exporter": "python",
   "pygments_lexer": "ipython3",
   "version": "3.8.2 (tags/v3.8.2:7b3ab59, Feb 25 2020, 23:03:10) [MSC v.1916 64 bit (AMD64)]"
  },
  "orig_nbformat": 4,
  "vscode": {
   "interpreter": {
    "hash": "570feb405e2e27c949193ac68f46852414290d515b0ba6e5d90d076ed2284471"
   }
  }
 },
 "nbformat": 4,
 "nbformat_minor": 2
}
