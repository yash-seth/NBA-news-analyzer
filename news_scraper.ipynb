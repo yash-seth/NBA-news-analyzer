{
 "cells": [
  {
   "attachments": {},
   "cell_type": "markdown",
   "metadata": {},
   "source": [
    "<h1>Real-time NBA News Analyzer</h1>\n",
    "<b>Here, firstly we gather the real-time new of various National Basketball Association (NBA) players by a Web Crawler to scrap the current news from the Fox News Sports network. For this, we use the BeautifulSoup python package. After collecting the data, it is manipulated to make it into a form which we can work with for applying NLP techniques.</b>"
   ]
  },
  {
   "cell_type": "code",
   "execution_count": 50,
   "metadata": {},
   "outputs": [
    {
     "name": "stdout",
     "output_type": "stream",
     "text": [
      "Response status code from website:  200\n",
      "                                                               Description  \\\n",
      "Tim Hardaway Jr.         Hardaway (illness) is off the injury report fo...   \n",
      "Jimmy Butler             Butler is probable for Tuesday's contest again...   \n",
      "Devin Booker             Booker (groin) has been ruled out for Monday's...   \n",
      "Ivica Zubac              Zubac (knee) is slated to practice with the te...   \n",
      "Norman Powell            Head coach Ty Lue said Powell (groin) practice...   \n",
      "Paul George              George (knee) will partake in practice Tuesday...   \n",
      "Collin Sexton            Sexton (hamstring) will miss Tuesday's game ve...   \n",
      "Klay Thompson            Thompson (knee) is probable for Tuesday's matc...   \n",
      "Kristaps Porzingis       Porzingis didn't participate in Tuesday's shoo...   \n",
      "Kelly Olynyk             Olynyk (ankle) has been ruled out for Monday's...   \n",
      "Kyle Lowry               Lowry (knee) is questionable for Tuesday's mat...   \n",
      "Jayson Tatum             Tatum (personal) participated in Tuesday's pra...   \n",
      "Chuma Okeke              Okeke  underwent an arthroscopic procedure on ...   \n",
      "Joel Embiid              Embiid closed with a team-high 28 points (6-16...   \n",
      "Pascal Siakam            Siakam finished with 38 points (13-27 FG, 3-8 ...   \n",
      "Domantas Sabonis         Sabonis recorded 28 points (12-19 FG, 2-2 3Pt,...   \n",
      "Damian Lillard           Lillard ended with 28 points (9-17 FG, 6-12 3P...   \n",
      "Shai Gilgeous-Alexander  Gilgeous-Alexander (back) was upgraded to ques...   \n",
      "Luka Doncic              Doncic (quadriceps) is available for Monday's ...   \n",
      "Terry Rozier             Rozier (hip) is out for Monday's contest again...   \n",
      "Russell Westbrook        Westbrook has been ruled out for Monday's game...   \n",
      "D'Angelo Russell         Russell is probable for Monday's meeting with ...   \n",
      "Josh Hart                Hart (ankle) is available for Monday's matchup...   \n",
      "Dejounte Murray          Murray (ankle) is listed as questionable but p...   \n",
      "OG Anunoby               Anunoby (hip) is questionable for Monday's mat...   \n",
      "Keldon Johnson           Johnson (back) did not participate in morning ...   \n",
      "Rudy Gobert              Gobert (ankle) has been ruled out for Monday's...   \n",
      "Gary Trent Jr.           Trent (quadriceps) is questionable for Monday'...   \n",
      "Jamal Murray             Murray is listed as questionable for Tuesday's...   \n",
      "Nikola Jokic             Jokic is probable for Tuesday's matchup agains...   \n",
      "LeBron James             James will be sidelined for Monday's game in P...   \n",
      "John Collins             Collins (ankle) is expected to play Monday aga...   \n",
      "Deandre Ayton            Ayton (ankle) is listed as questionable but pa...   \n",
      "Wendell Carter Jr.       Carter (foot) has been ruled out for Monday's ...   \n",
      "Jusuf Nurkic             Nurkic (calf) has been downgraded to questiona...   \n",
      "Jordan Poole             Poole finished with a career-high 43 points (1...   \n",
      "Michael Porter Jr.       Nuggets head coach Michael Malone said Sunday ...   \n",
      "\n",
      "                                                                    Impact  \n",
      "Tim Hardaway Jr.         Hardaway will be back following a one-game abs...  \n",
      "Jimmy Butler             While Butler is listed on the injury report, i...  \n",
      "Devin Booker             Booker is coming off a season-high 58 points, ...  \n",
      "Ivica Zubac              Zubac has skipped the last pair of games while...  \n",
      "Norman Powell            Lue's comments essentially rule Powell out for...  \n",
      "Paul George              George's presence on the practice floor bodes ...  \n",
      "Collin Sexton            Sexton hasn't appeared in a game since Dec. 7,...  \n",
      "Klay Thompson            Thompson is tabbed as probable due to left kne...  \n",
      "Kristaps Porzingis       The specifics on the situation remain unclear,...  \n",
      "Kelly Olynyk             Olynyk was initially listed as questionable du...  \n",
      "Kyle Lowry               Lowry has missed back-to-back games and three ...  \n",
      "Jayson Tatum             Tatum wasn't with the team for Sunday's loss t...  \n",
      "Chuma Okeke              Okeke has missed 14 consecutive games while be...  \n",
      "Joel Embiid              The All-Star center saw his streak of games wi...  \n",
      "Pascal Siakam            The 38 points and 15 boards were both season h...  \n",
      "Domantas Sabonis         Sabonis put up season highs with 28 points and...  \n",
      "Damian Lillard           Lillard came into the contest needing 20 point...  \n",
      "Shai Gilgeous-Alexander  Gilgeous-Alexander was initially ruled out due...  \n",
      "Luka Doncic              Doncic sat out Saturday's one-point loss to Cl...  \n",
      "Terry Rozier             After exiting Charlotte's previous contest ear...  \n",
      "Russell Westbrook        It's unclear as to when this injury popped up ...  \n",
      "D'Angelo Russell         Russell missed a pair of games due to the inju...  \n",
      "Josh Hart                Hart was initially deemed probable due to a le...  \n",
      "Dejounte Murray          Murray's missed five consecutive games and is ...  \n",
      "OG Anunoby               Coach Nike Nurse said Sunday that Anunoby, who...  \n",
      "Keldon Johnson           Johnson is currently listed as questionable fo...  \n",
      "Rudy Gobert              Gobert was initially listed as questionable bu...  \n",
      "Gary Trent Jr.           Trent has missed two straight contests due to ...  \n",
      "Jamal Murray             Murray was recently dealing with a sprained an...  \n",
      "Nikola Jokic             Jokic is coming off a ridiculous 40-point, 27-...  \n",
      "LeBron James             James will miss the second leg of the Lakers' ...  \n",
      "John Collins             Collins has been sidelined since Nov. 30 and m...  \n",
      "Deandre Ayton            Ayton has missed back-to-back games due to a l...  \n",
      "Wendell Carter Jr.       Carter hasn't played since Nov. 18 while rehab...  \n",
      "Jusuf Nurkic             Nurkic was initially listed as probable with r...  \n",
      "Jordan Poole             With both Stephen Curry (shoulder) and Andrew ...  \n",
      "Michael Porter Jr.       Porter was once again sidelined for Sunday's 1...  \n"
     ]
    }
   ],
   "source": [
    "import requests\n",
    "from bs4 import BeautifulSoup\n",
    "import pandas as pd\n",
    "\n",
    "URL = \"https://www.foxsports.com/nba/player-news\"\n",
    "\n",
    "webpage = requests.get(URL)\n",
    "\n",
    "news = BeautifulSoup(webpage.content, 'html.parser')\n",
    "\n",
    "print(\"Response status code from website: \", webpage.status_code)\n",
    "\n",
    "newsArticles = news.find(\"div\", {\"class\", \"player-news-list\"})\n",
    "\n",
    "players = {}\n",
    "\n",
    "for article in newsArticles.findAll(\"div\", {\"class\", \"player-news-article league\"}):\n",
    "  player_news = {}\n",
    "  # extracting the player news description\n",
    "  player_news[\"Description\"] = article.find(\"div\", {\"class\", \"player-news-article-description\"}).text[6:]\n",
    "  \n",
    "  #extracting the player impact\n",
    "  player_news[\"Impact\"] = article.find(\"div\", {\"class\", \"player-news-article-impact\"}).text[8:]\n",
    "  players[article.find(\"div\", {\"class\", \"player-news-article-title\"}).text] = player_news\n",
    "\n",
    "# converting to dataframe and exporting as csv file\n",
    "df = pd.DataFrame(players)\n",
    "df = df.transpose()\n",
    "print(df)"
   ]
  },
  {
   "attachments": {},
   "cell_type": "markdown",
   "metadata": {},
   "source": [
    "<br><b>Next, we apply sentiment analysis on the collected news. This helps us clearly segregate the positive news from the negative news. For this purpose, we utilize the transformers package, which provides a pre-built sentiment analysis pipeline. The pipeline takes the string to be classified as input and returns the label of 'Positive', 'Negative' or 'Neutral' along with the sentiment score, indicating the magnitude of the sentiment.</b>"
   ]
  },
  {
   "cell_type": "code",
   "execution_count": 51,
   "metadata": {},
   "outputs": [
    {
     "name": "stderr",
     "output_type": "stream",
     "text": [
      "No model was supplied, defaulted to distilbert-base-uncased-finetuned-sst-2-english and revision af0f99b (https://huggingface.co/distilbert-base-uncased-finetuned-sst-2-english).\n",
      "Using a pipeline without specifying a model name and revision in production is not recommended.\n",
      "Some layers from the model checkpoint at distilbert-base-uncased-finetuned-sst-2-english were not used when initializing TFDistilBertForSequenceClassification: ['dropout_19']\n",
      "- This IS expected if you are initializing TFDistilBertForSequenceClassification from the checkpoint of a model trained on another task or with another architecture (e.g. initializing a BertForSequenceClassification model from a BertForPreTraining model).\n",
      "- This IS NOT expected if you are initializing TFDistilBertForSequenceClassification from the checkpoint of a model that you expect to be exactly identical (initializing a BertForSequenceClassification model from a BertForSequenceClassification model).\n",
      "Some layers of TFDistilBertForSequenceClassification were not initialized from the model checkpoint at distilbert-base-uncased-finetuned-sst-2-english and are newly initialized: ['dropout_299']\n",
      "You should probably TRAIN this model on a down-stream task to be able to use it for predictions and inference.\n"
     ]
    }
   ],
   "source": [
    "from transformers import pipeline\n",
    "sentiment_pipeline = pipeline(\"sentiment-analysis\")\n",
    "\n",
    "sentiment = []\n",
    "sentiment_value = []\n",
    "\n",
    "for player in players:\n",
    "    sentiment.append(sentiment_pipeline(players[player][\"Impact\"])[0]['label'])\n",
    "    sentiment_value.append(sentiment_pipeline(players[player][\"Impact\"])[0]['score'])\n",
    "\n",
    "df['Sentiment'] = sentiment\n",
    "df['Sentiment Score'] = sentiment_value\n",
    "# df.to_csv(\"nba_news.csv\")"
   ]
  },
  {
   "attachments": {},
   "cell_type": "markdown",
   "metadata": {},
   "source": [
    "<br><b>Then, we go for keyword extraction, which essentially allows us to extract the useful keywords from the news. It allows us to highlight the main ideas of the news. Keyword extraction is useful in many ways. It helps in case one wishes to paraphrase the news, or create hash tags to post about the news etc.</b>"
   ]
  },
  {
   "cell_type": "code",
   "execution_count": 61,
   "metadata": {},
   "outputs": [
    {
     "name": "stdout",
     "output_type": "stream",
     "text": [
      "Description Keywords player wise: \n",
      "['report for Wednesday, Wednesday game, injury report, Hardaway, illness, Timberwolves, injury, report, game', 'knee injury management, probable for Tuesday, Tuesday contest, Butler is probable, knee injury, Tuesday, Bulls, Butler, management, probable', 'Arizona Republic reports, Duane Rankin, Monday matchup, Booker, groin, Lakers, Duane, Monday, Rankin, Arizona', 'contact session Tuesday, Tomer Azarly, Zubac, knee, Azarly of ClutchPoints.com, ClutchPoints.com reports, Tuesday, Tomer, slated to practice, Azarly', 'five-game road trip, upcoming five-game road, Lue said Powell, Ohm Youngmisuk, practiced Tuesday, coach Ty Lue, Youngmisuk of ESPN.com, Head coach, road trip, ESPN.com reports', 'Los Angeles Times, Angeles Times reports, Andrew Greif, practice Tuesday, George, knee, Tuesday, Andrew, partake in practice, Greif', 'miss Tuesday game, Tuesday game versus, versus the Pistons, Sexton, hamstring, Pistons, Tuesday, miss, game, versus', 'Thompson, knee, probable for Tuesday, Tuesday matchup, Knicks, Tuesday, probable, matchup', 'Washington Post reports, Ava Wallace, participate in Tuesday, Tuesday shootaround, Ava, Tuesday, Washington, Post, Porzingis, reports', 'Olynyk, ankle, Monday matchup, Cavaliers, Monday, ruled, matchup', 'Miami Herald reports, Anthony Chiang, questionable for Tuesday, Tuesday matchup, Lowry, knee, Bulls, Anthony, Tuesday, Chiang', 'Springfield Republican reports, Souichi Terada, participated in Tuesday, Tuesday practice, Tatum, personal, Souichi, Tuesday, Terada, Springfield', 'left knee Tuesday, Okeke underwent, underwent an arthroscopic, arthroscopic procedure, Tuesday, Okeke, weeks, procedure, left, knee', 'Monday 104-101 overtime, minutes during Monday, 104-101 overtime victory, points, rebounds, Embiid closed, Raptors, Monday, Embiid, team-high', 'Monday 104-101 overtime, minutes during Monday, 104-101 overtime loss, points, rebounds, Siakam finished, Monday, Siakam, 13-27, 9-11', 'Monday 125-119 loss, minutes during Monday, Sabonis recorded, points, rebounds, Monday, Sabonis, recorded, 12-19, minutes', 'Monday 123-121 loss, Oklahoma City, minutes during Monday, loss to Oklahoma, Lillard ended, pass Clyde Drexler, 6-12, City, Drexler for Portland, Monday', 'Trail Blazers, Gilgeous-Alexander, back, ahead of Monday, Monday tilt, upgraded to questionable, questionable ahead, Trail, upgraded, ahead', 'matchup in Minnesota, Doncic, quadriceps, Monday matchup, Minnesota, Monday, matchup', 'Rozier, hip, Monday contest, Kings, Monday, contest', 'Spectrum SportsNet reports, Mike Trudell, left foot soreness, Trudell of Spectrum, Monday game, Suns due, Mike, due to left, left foot, Suns', 'left knee contusion, probable for Monday, Monday meeting, Mavericks due, Russell is probable, left knee, Monday, Russell, contusion, probable', 'Hart, ankle, Monday matchup, Thunder, Monday, matchup', \"Hawks' official site, official site reports, Kevin Chouinard, ahead of Monday, Monday matchup, listed as questionable, questionable but participated, participated in shootaround, shootaround ahead, Murray\", 'Eric Koreen, Athletic reports, questionable for Monday, Monday matchup, Anunoby, hip, Eric, Monday, Athletic, reports', 'San Antonio matchup, San Antonio Express-News, Rockets on Monday, morning shootaround ahead, Jeff McDonald, Express-News reports, participate in morning, ahead of San, San, Antonio', 'Dane Moore, Gobert, ankle, Monday matchup, Moore of BringMeTheNews.com, BringMeTheNews.com reports, Mavericks, Dane, Monday, Moore', 'Eric Koreen, Athletic reports, questionable for Monday, Monday matchup, Trent, quadriceps, Eric, Monday, Athletic, reports', 'knee injury management, left knee injury, questionable for Tuesday, Tuesday matchup, Grizzlies due, Murray is listed, listed as questionable, due to left, Tuesday, Murray', 'probable for Tuesday, Tuesday matchup, Grizzlies due, Jokic is probable, knee contusion, Tuesday, Jokic, probable, matchup, due', 'Ryan Ward, left ankle soreness, sidelined for Monday, Monday game, game in Phoenix, Phoenix due, Ward of LakersNation.com, LakersNation.com reports, Ryan, due to left', 'Adrian Wojnarowski, Wojnarowski of ESPN, ESPN reports, Collins, ankle, play Monday, Magic, Adrian, expected to play, ESPN', 'Arizona Republic reports, Duane Rankin, ahead of Monday, Monday matchup, listed as questionable, questionable but participated, participated in shootaround, shootaround ahead, Ayton, ankle', 'matchup against Atlanta, Carter, foot, Monday matchup, Atlanta, Monday, ruled, matchup', 'Oklahoma City, Nurkic, calf, questionable for Monday, Monday matchup, matchup against Oklahoma, City, downgraded to questionable, Monday, downgraded', 'Sunday 126-110 victory, minutes during Sunday, Poole finished, points, 5-11, Raptors, Sunday, Poole, career-high, 14-23', 'Dennis Georgatos, Nuggets head coach, made steady progress, coach Michael Malone, Press reports, head coach Michael, Malone said Sunday, game action, nearing a return, return to game']\n",
      "\n",
      "Impact Keywords player wise: \n",
      "['one-game absence, points, rebounds, minutes, Hardaway, absence, back, one-game, averaged, steals', 'miss Tuesday contest, injury report, Butler is listed, team that drafted, Butler, Tuesday, appearances this season, minutes per game, report, listed', 'set Monday, Monday with groin, groin soreness, issue remains unclear, Landry Shamet figures, current issue remains, points, Damion Lee, Booker is coming, Booker place', 'Wednesday tilt approaches, knee contusion, pair of games, games while contending, floor Wednesday versus, shape as Wednesday, Zubac has skipped, official injury report, versus the Hornets, Zubac chances', \"Lue comments essentially, essentially rule Powell, Wednesday matchup, Lue comments, forward could return, return to action, calendar year, rule Powell, trip starts Friday, Clippers' upcoming five-game\", 'practice floor bodes, action Wednesday, George presence, two-game absence, potential return, return to action, team injury report, injury report released, George, absence', 'game since Dec., seventh consecutive absence, continue Tuesday, marking his seventh, Dec., Tuesday, versus the Wizards, Sexton, marking, arrives Thursday versus', 'left knee soreness, straight contest, tabbed as probable, probable due, due to left, left knee, Golden State, suit up Tuesday, Thompson is tabbed, contest', \"missing Tuesday contest, situation remain unclear, danger of missing, big man availability, Suns, Wizards' next injury, Porzingis, Tuesday, unclear, injury report\", 'left ankle sprain, loss to Milwaukee, suffered during Saturday, Saturday loss, Olynyk was initially, initially listed, listed as questionable, questionable due, sprain he suffered, Walker Kessler', 'Lowry has missed, Miami past, past six contests, Miami, Tyler Herro, Victor Oladipo figure, Lowry, missed, games, contests', 'Tuesday practice suggests, team for Sunday, Sunday loss, loss to Orlando, Orlando due, mix Wednesday, personal reasons, due to personal, Boston injury report, Pacers', 'left knee soreness, left knee, consecutive games, first-round pick posted, Okeke has missed, Okeke prolonged absence, Bol Bol, missed, surgery, Okeke', 'missed bucket, plenty productive, All-Star center, points end, Embiid, November he averaging, percent from three-point, late November, percent, bucket', 'highs for Siakam, responsible for Toronto, season highs, single-handedly responsible, teammates managed, Siakam, games in December, points, Toronto, boards', 'adding seven assists, put up season, season highs, triple-double by adding, Sabonis put, campaign, points, boards, loss, assists', 'Trail Blazers scorers, all-time Trail Blazers, tie Drexler atop, atop the list, list of all-time, contest needing, passed Drexler, superstar point guard, Drexler, Trail', 'lower back contusion, lower back, Josh Giddey, initially ruled, ruled out due, Gilgeous-Alexander was initially, suit up Monday, contest, Illness, higher usage rate', 'Saturday one-point loss, questionable for Monday, sat out Saturday, loss to Cleveland, Cleveland due, quad strain, initially listed, listed as questionable, Doncic sat, Monday', 'exiting Charlotte previous, Charlotte previous contest, previous contest early, officially out Monday, Louisville product ninth, Monday, ninth missed contest, Charlotte, Rozier is officially, Rozier', 'Monday action, injury popped, Monday, Westbrook absence, Kendrick Nunn, action, unclear, injury, popped, run in Westbrook', 'Sunday and playing, returning Sunday, missed a pair, injury before returning, Russell missed, games due, Monday game, minutes, Sunday, Timberwolves could play', 'left ankle sprain, initially deemed probable, deemed probable due, Hart was initially, Hart, sprain, points, rebounds, two-game absence, guard has averaged', 'return Monday, Murray missed, listed as questionable, missed five consecutive, consecutive games, participation at shootaround, shootaround suggests, suggests the point, point guard, track to return', 'Coach Nike Nurse, straight games due, Nurse said Sunday, hip injury, missed four straight, games due, versatile forward, Sunday that Anunoby, Knicks or Friday, Monday', 'absence Monday morning, lower back contusion, contest due, lower back, wrong side, Monday, Doug McDermott, Johnson, morning, questionable', 'left ankle sprain, straight game due, ultimately miss, game due, initially listed, listed as questionable, Naz Reid, Gobert absence, Gobert was initially, Gobert', 'straight contests due, action Monday, missed two straight, quadriceps injury, return to action, Malachi Flynn, Monday, Trent recent two-game, recent two-game absence, Trent', 'repaired left knee, surgically repaired left, sitting out Tuesday, Tuesday to rest, sprained ankle, left knee, recently dealing, danger of sitting, rest his surgically, Tuesday', 'performance Sunday, player in NBA, NBA history, history to post, Sunday, line, NBA, sideline him Tuesday, Jokic is coming, Jokic', \"James will miss, past five appearances, precautionary measure, larger roles Monday, Anthony Davis, Austin Reaves, Wenyen Gabriel, Gabriel and Troy, Troy Brown, Lakers'\", 'hardwood Monday night, left ankle sprain, sidelined since Nov., missed eight straight, straight games, games after suffering, suffering a left, Nov., Jalen Johnson, Monday', 'left ankle sprain, mix Monday, listed as questionable, participation at shootaround, shootaround suggests, suggests the big, big man, games due, Ayton has missed, Ayton', 'played since Nov., foot strain, eyeing Friday matchup, Orlando Sentinel, potential return date, Khobi Price, talented big man, Nov., beginning of December, Carter', 'calf soreness, downgraded to questionable, good sign, Drew Eubanks, Trendon Watford, initially listed, listed as probable, Justise Winslow, Winslow and Greg, Greg Brown', 'Golden State offense, Andrew Wiggins, Stephen Curry, foreseeable future, stepped back, pronounced role, poised to drive, State starting point, Poole has stepped, Poole', \"Sunday 119-115 win, consecutive absence due, left heel strain, sidelined for Sunday, absence due, Nuggets' upcoming three-game, Porter possibly returning, Nuggets' Dec., upcoming three-game week, Hornets\"]\n"
     ]
    }
   ],
   "source": [
    "# Yet Another Keyword Extractor - for keyword extraction from the impact of the news\n",
    "import yake\n",
    "\n",
    "# keywords extracted from the description paragraph\n",
    "player_keywords_desc = []\n",
    "\n",
    "for player in players:\n",
    "    keywordsString = \"\"\n",
    "    doc = players[player]['Description']\n",
    "    # dedupLim to set the hyperparameter for allowing repetition of words in the generation of keywords\n",
    "    kw_extractor = yake.KeywordExtractor(n = 3, dedupLim = 0.5, top = 10)\n",
    "    keywords = kw_extractor.extract_keywords(doc)\n",
    "    for idx, kw in enumerate(keywords):\n",
    "        if idx == len(keywords)-1:\n",
    "             keywordsString += kw[0]\n",
    "             break\n",
    "        keywordsString += kw[0] + \", \"\n",
    "    player_keywords_desc.append(keywordsString)\n",
    "\n",
    "print(\"Description Keywords player wise: \")\n",
    "print(player_keywords_desc)\n",
    "df['Keywords-Description'] = player_keywords_desc\n",
    "\n",
    "print()\n",
    "# keywords extracted from the impact paragraph\n",
    "player_keywords_impact = []\n",
    "\n",
    "for player in players:\n",
    "    keywordsString = \"\"\n",
    "    doc = players[player]['Impact']\n",
    "    # dedupLim to set the hyperparameter for allowing repetition of words in the generation of keywords\n",
    "    kw_extractor = yake.KeywordExtractor(n = 3, dedupLim = 0.5, top = 10)\n",
    "    keywords = kw_extractor.extract_keywords(doc)\n",
    "    for idx, kw in enumerate(keywords):\n",
    "        if idx == len(keywords)-1:\n",
    "             keywordsString += kw[0]\n",
    "             break\n",
    "        keywordsString += kw[0] + \", \"\n",
    "    player_keywords_impact.append(keywordsString)\n",
    "\n",
    "print(\"Impact Keywords player wise: \")\n",
    "print(player_keywords_impact)\n",
    "df['Keywords-Impact'] = player_keywords_impact\n",
    "\n",
    "df.to_csv(\"nba_news.csv\")"
   ]
  }
 ],
 "metadata": {
  "kernelspec": {
   "display_name": "Python 3",
   "language": "python",
   "name": "python3"
  },
  "language_info": {
   "codemirror_mode": {
    "name": "ipython",
    "version": 3
   },
   "file_extension": ".py",
   "mimetype": "text/x-python",
   "name": "python",
   "nbconvert_exporter": "python",
   "pygments_lexer": "ipython3",
   "version": "3.8.2"
  },
  "orig_nbformat": 4,
  "vscode": {
   "interpreter": {
    "hash": "570feb405e2e27c949193ac68f46852414290d515b0ba6e5d90d076ed2284471"
   }
  }
 },
 "nbformat": 4,
 "nbformat_minor": 2
}
